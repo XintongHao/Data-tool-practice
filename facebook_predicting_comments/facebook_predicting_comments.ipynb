{
 "cells": [
  {
   "cell_type": "markdown",
   "metadata": {},
   "source": [
    "# Facebook metrics Data Set - Predicting Number of Comments of Facebook Posts"
   ]
  },
  {
   "cell_type": "markdown",
   "metadata": {},
   "source": [
    "**To be completed INDIVIDUALLY and due on April 14 at 11:59pm.**"
   ]
  },
  {
   "cell_type": "markdown",
   "metadata": {},
   "source": [
    "In this assignment, we will work on Facebook posts. The goal is to determine the number of comments a post will receive. Being able to predict the number of comments of a post can be viewed as predicting the impact a post will have, which makes this task quite challenging and interesting. You can find the dataset and details about it [here](https://archive.ics.uci.edu/ml/datasets/Facebook+metrics#) and [here](https://ac.els-cdn.com/S0148296316000813/1-s2.0-S0148296316000813-main.pdf?_tid=1944e5a8-e211-4dbc-bdd6-b233e4df6465&acdnat=1522453539_a59ca4034d01f4654986e45e18e79883). \n",
    "\n",
    "The data are stored in a .csv file and each row of the dataset corresponds to a distinct post (data instance). You will evaluate the performance of linear regression on the task of predicting the number of comments of a post.\n",
    "\n",
    "Relevant Papers/citations: _Prédictions d’activité dans les réseaux sociaux en ligne_ (F. Kawala, A. Douzal-Chouakria, E. Gaussier, E. Dimert), In Actes de la Conférence sur les Modèles et l′Analyse des Réseaux : Approches Mathématiques et Informatique (MARAMI), pp. 16, 2013."
   ]
  },
  {
   "cell_type": "markdown",
   "metadata": {},
   "source": [
    "### Task 1\n",
    "\n",
    "As learned in class most algorithms can only handle numeric values. However, in the given dataset you can see that the values of column 'Type' are categorical. Your first task is to prepare your dataset for linear regression and transform this column into numerical values. Note that creating a mapping that replaces the type field with a single number (e.g. Photo -> 1, Status ->2, Link ->3,...), will not be helpful here since the types are not ordered. Instead, use the \"indicator vector\" representation discussed in class. \n",
    "**(2 pt)**"
   ]
  },
  {
   "cell_type": "markdown",
   "metadata": {},
   "source": [
    "## Name: Xintong Hao\n",
    "## GitHub usrname: XintongHao\n",
    "## Email: hxtong@bu.edu"
   ]
  },
  {
   "cell_type": "code",
   "execution_count": 1,
   "metadata": {},
   "outputs": [
    {
     "name": "stderr",
     "output_type": "stream",
     "text": [
      "/Library/Frameworks/Python.framework/Versions/3.6/lib/python3.6/site-packages/statsmodels/compat/pandas.py:56: FutureWarning: The pandas.core.datetools module is deprecated and will be removed in a future version. Please use the pandas.tseries module instead.\n",
      "  from pandas.core import datetools\n"
     ]
    },
    {
     "name": "stdout",
     "output_type": "stream",
     "text": [
      "\n"
     ]
    }
   ],
   "source": [
    "import pandas as pd\n",
    "import numpy as np\n",
    "import csv\n",
    "%matplotlib inline\n",
    "%config InlineBackend.figure_format='retina'\n",
    "# import libraries\n",
    "import math\n",
    "import numpy as np\n",
    "import matplotlib as mp\n",
    "import pandas as pd\n",
    "import matplotlib.pyplot as plt\n",
    "import pandas as pd\n",
    "from importlib import reload\n",
    "from datetime import datetime\n",
    "from IPython.display import Image\n",
    "from IPython.display import display_html\n",
    "from IPython.display import display\n",
    "from IPython.display import Math\n",
    "from IPython.display import Latex\n",
    "from IPython.display import HTML\n",
    "\n",
    "import scipy as sp\n",
    "import scipy.sparse.linalg as linalg\n",
    "import scipy.cluster.hierarchy as hr\n",
    "from scipy.spatial.distance import pdist, squareform\n",
    "\n",
    "import sklearn.datasets as datasets\n",
    "import sklearn.metrics as metrics\n",
    "import sklearn.utils as utils\n",
    "import sklearn.linear_model as linear_model\n",
    "import sklearn.model_selection as model_selection\n",
    "import sklearn.cluster as cluster\n",
    "from sklearn.neighbors import KNeighborsClassifier\n",
    "from sklearn.decomposition import TruncatedSVD\n",
    "from sklearn.preprocessing import StandardScaler\n",
    "\n",
    "import statsmodels.api as sm\n",
    "\n",
    "from patsy import dmatrices\n",
    "\n",
    "import seaborn as sns\n",
    "\n",
    "print('')"
   ]
  },
  {
   "cell_type": "code",
   "execution_count": 286,
   "metadata": {},
   "outputs": [],
   "source": [
    "df = pd.read_csv('dataset_Facebook.csv')"
   ]
  },
  {
   "cell_type": "code",
   "execution_count": 287,
   "metadata": {},
   "outputs": [],
   "source": [
    "df = df.drop(\"Page total likes;Type;Category;Post Month;Post Weekday;Post Hour;Paid;Lifetime Post Total Reach;Lifetime Post Total Impressions;Lifetime Engaged Users;Lifetime Post Consumers;Lifetime Post Consumptions;Lifetime Post Impressions by people who have liked your Page;Lifetime Post reach by people who like your Page;Lifetime People who have liked your Page and engaged with your post;comment;like;share;Total Interactions\", axis=1)"
   ]
  },
  {
   "cell_type": "code",
   "execution_count": 288,
   "metadata": {
    "scrolled": true
   },
   "outputs": [],
   "source": [
    "csvfile = open( 'dataset_Facebook.csv','r')  \n",
    "\n",
    "idx = 0\n",
    "reader = [each for each in csv.DictReader(csvfile, delimiter=';')]\n",
    "for row in reader:\n",
    "    df.loc[idx,'Page total likes'] = int(row['Page total likes'])\n",
    "    df.loc[idx,'Type'] = row['Type']\n",
    "    df.loc[idx,'Category'] = row['Category']\n",
    "    df.loc[idx,'Post Month'] = row['Post Month']\n",
    "    df.loc[idx,'Post Weekday'] = row['Post Weekday']\n",
    "    df.loc[idx,'Post Hour'] = row['Post Hour']\n",
    "    df.loc[idx,'Paid'] = row['Paid']\n",
    "    df.loc[idx,'Lifetime Post Total Reach'] = row['Lifetime Post Total Reach']\n",
    "    df.loc[idx,'Lifetime Post Total Impressions'] = row['Lifetime Post Total Impressions']\n",
    "    df.loc[idx,'Lifetime Engaged Users'] = row['Lifetime Engaged Users']\n",
    "    df.loc[idx,'Lifetime Post Consumers'] = row['Lifetime Post Consumers']\n",
    "    df.loc[idx,'Lifetime Post Consumptions'] = row['Lifetime Post Consumptions']\n",
    "    df.loc[idx,'Lifetime Post Impressions by people who have liked your Page'] = row['Lifetime Post Impressions by people who have liked your Page']\n",
    "    df.loc[idx,'Lifetime Post reach by people who like your Page'] = row['Lifetime Post reach by people who like your Page']\n",
    "    df.loc[idx,'Lifetime People who have liked your Page and engaged with your post'] = row['Lifetime People who have liked your Page and engaged with your post']\n",
    "    df.loc[idx,'comment'] = row['comment']\n",
    "    df.loc[idx,'like'] = row['like']\n",
    "    df.loc[idx,'share'] = row['share']\n",
    "    idx += 1"
   ]
  },
  {
   "cell_type": "code",
   "execution_count": 289,
   "metadata": {},
   "outputs": [
    {
     "data": {
      "text/plain": [
       "600"
      ]
     },
     "execution_count": 289,
     "metadata": {},
     "output_type": "execute_result"
    }
   ],
   "source": [
    "pd.set_option(\"display.max_rows\",600)\n",
    "pd.get_option(\"display.max_rows\")"
   ]
  },
  {
   "cell_type": "code",
   "execution_count": 290,
   "metadata": {},
   "outputs": [],
   "source": [
    "df['Page total likes'] = df['Page total likes'].astype('int64')\n",
    "df['Category'] = df['Category'].astype('int64')\n",
    "df['Post Month'] = df['Post Month'].astype('int64')\n",
    "df['Post Weekday'] = df['Post Weekday'].astype('int64')\n",
    "df['Post Hour'] = df['Post Hour'].astype('int64')\n",
    "# df['Paid'] = df['Paid'].astype('int64')\n",
    "df['Lifetime Post Total Reach'] = df['Lifetime Post Total Reach'].astype('int64')\n",
    "df['Lifetime Post Total Impressions'] = df['Lifetime Post Total Impressions'].astype('int64')\n",
    "df['Lifetime Engaged Users'] = df['Lifetime Engaged Users'].astype('int64')\n",
    "df['Lifetime Post Consumers'] = df['Lifetime Post Consumers'].astype('int64')\n",
    "df['Lifetime Post Consumptions'] = df['Lifetime Post Consumptions'].astype('int64')\n",
    "df['Lifetime Post Impressions by people who have liked your Page'] = df['Lifetime Post Impressions by people who have liked your Page'].astype('int64')\n",
    "df['Lifetime Post reach by people who like your Page'] = df['Lifetime Post reach by people who like your Page'].astype('int64')\n",
    "df['Lifetime People who have liked your Page and engaged with your post'] = df['Lifetime People who have liked your Page and engaged with your post'].astype('int64')\n",
    "df['comment'] = df['comment'].astype('int64')\n",
    "# df['like'] = df['like'].astype('int64')\n",
    "# df['share'] = df['share'].astype('int64')"
   ]
  },
  {
   "cell_type": "code",
   "execution_count": 291,
   "metadata": {},
   "outputs": [],
   "source": [
    "for idx, row in df.iterrows():\n",
    "    if row['Paid'] == '':\n",
    "        df.loc[idx,'Paid'] = 0\n",
    "    if row['like'] == '':\n",
    "        df.loc[idx,'like'] = 0\n",
    "    if row['share'] == '':\n",
    "        df.loc[idx,'share'] = 0\n",
    "df['Paid'] = df['Paid'].astype('int64')\n",
    "df['like'] = df['like'].astype('int64')\n",
    "df['share'] = df['share'].astype('int64')"
   ]
  },
  {
   "cell_type": "code",
   "execution_count": 292,
   "metadata": {},
   "outputs": [
    {
     "data": {
      "text/html": [
       "<div>\n",
       "<style scoped>\n",
       "    .dataframe tbody tr th:only-of-type {\n",
       "        vertical-align: middle;\n",
       "    }\n",
       "\n",
       "    .dataframe tbody tr th {\n",
       "        vertical-align: top;\n",
       "    }\n",
       "\n",
       "    .dataframe thead th {\n",
       "        text-align: right;\n",
       "    }\n",
       "</style>\n",
       "<table border=\"1\" class=\"dataframe\">\n",
       "  <thead>\n",
       "    <tr style=\"text-align: right;\">\n",
       "      <th></th>\n",
       "      <th>Page total likes</th>\n",
       "      <th>Category</th>\n",
       "      <th>Post Month</th>\n",
       "      <th>Post Weekday</th>\n",
       "      <th>Post Hour</th>\n",
       "      <th>Paid</th>\n",
       "      <th>Lifetime Post Total Reach</th>\n",
       "      <th>Lifetime Post Total Impressions</th>\n",
       "      <th>Lifetime Engaged Users</th>\n",
       "      <th>Lifetime Post Consumers</th>\n",
       "      <th>...</th>\n",
       "      <th>Lifetime Post Impressions by people who have liked your Page</th>\n",
       "      <th>Lifetime Post reach by people who like your Page</th>\n",
       "      <th>Lifetime People who have liked your Page and engaged with your post</th>\n",
       "      <th>comment</th>\n",
       "      <th>like</th>\n",
       "      <th>share</th>\n",
       "      <th>Type_Link</th>\n",
       "      <th>Type_Photo</th>\n",
       "      <th>Type_Status</th>\n",
       "      <th>Type_Video</th>\n",
       "    </tr>\n",
       "  </thead>\n",
       "  <tbody>\n",
       "    <tr>\n",
       "      <th>0</th>\n",
       "      <td>139441</td>\n",
       "      <td>2</td>\n",
       "      <td>12</td>\n",
       "      <td>4</td>\n",
       "      <td>3</td>\n",
       "      <td>0</td>\n",
       "      <td>2752</td>\n",
       "      <td>5091</td>\n",
       "      <td>178</td>\n",
       "      <td>109</td>\n",
       "      <td>...</td>\n",
       "      <td>3078</td>\n",
       "      <td>1640</td>\n",
       "      <td>119</td>\n",
       "      <td>4</td>\n",
       "      <td>79</td>\n",
       "      <td>17</td>\n",
       "      <td>0</td>\n",
       "      <td>1</td>\n",
       "      <td>0</td>\n",
       "      <td>0</td>\n",
       "    </tr>\n",
       "    <tr>\n",
       "      <th>1</th>\n",
       "      <td>139441</td>\n",
       "      <td>2</td>\n",
       "      <td>12</td>\n",
       "      <td>3</td>\n",
       "      <td>10</td>\n",
       "      <td>0</td>\n",
       "      <td>10460</td>\n",
       "      <td>19057</td>\n",
       "      <td>1457</td>\n",
       "      <td>1361</td>\n",
       "      <td>...</td>\n",
       "      <td>11710</td>\n",
       "      <td>6112</td>\n",
       "      <td>1108</td>\n",
       "      <td>5</td>\n",
       "      <td>130</td>\n",
       "      <td>29</td>\n",
       "      <td>0</td>\n",
       "      <td>0</td>\n",
       "      <td>1</td>\n",
       "      <td>0</td>\n",
       "    </tr>\n",
       "    <tr>\n",
       "      <th>2</th>\n",
       "      <td>139441</td>\n",
       "      <td>3</td>\n",
       "      <td>12</td>\n",
       "      <td>3</td>\n",
       "      <td>3</td>\n",
       "      <td>0</td>\n",
       "      <td>2413</td>\n",
       "      <td>4373</td>\n",
       "      <td>177</td>\n",
       "      <td>113</td>\n",
       "      <td>...</td>\n",
       "      <td>2812</td>\n",
       "      <td>1503</td>\n",
       "      <td>132</td>\n",
       "      <td>0</td>\n",
       "      <td>66</td>\n",
       "      <td>14</td>\n",
       "      <td>0</td>\n",
       "      <td>1</td>\n",
       "      <td>0</td>\n",
       "      <td>0</td>\n",
       "    </tr>\n",
       "    <tr>\n",
       "      <th>3</th>\n",
       "      <td>139441</td>\n",
       "      <td>2</td>\n",
       "      <td>12</td>\n",
       "      <td>2</td>\n",
       "      <td>10</td>\n",
       "      <td>1</td>\n",
       "      <td>50128</td>\n",
       "      <td>87991</td>\n",
       "      <td>2211</td>\n",
       "      <td>790</td>\n",
       "      <td>...</td>\n",
       "      <td>61027</td>\n",
       "      <td>32048</td>\n",
       "      <td>1386</td>\n",
       "      <td>58</td>\n",
       "      <td>1572</td>\n",
       "      <td>147</td>\n",
       "      <td>0</td>\n",
       "      <td>1</td>\n",
       "      <td>0</td>\n",
       "      <td>0</td>\n",
       "    </tr>\n",
       "    <tr>\n",
       "      <th>4</th>\n",
       "      <td>139441</td>\n",
       "      <td>2</td>\n",
       "      <td>12</td>\n",
       "      <td>2</td>\n",
       "      <td>3</td>\n",
       "      <td>0</td>\n",
       "      <td>7244</td>\n",
       "      <td>13594</td>\n",
       "      <td>671</td>\n",
       "      <td>410</td>\n",
       "      <td>...</td>\n",
       "      <td>6228</td>\n",
       "      <td>3200</td>\n",
       "      <td>396</td>\n",
       "      <td>19</td>\n",
       "      <td>325</td>\n",
       "      <td>49</td>\n",
       "      <td>0</td>\n",
       "      <td>1</td>\n",
       "      <td>0</td>\n",
       "      <td>0</td>\n",
       "    </tr>\n",
       "  </tbody>\n",
       "</table>\n",
       "<p>5 rows × 21 columns</p>\n",
       "</div>"
      ],
      "text/plain": [
       "   Page total likes  Category  Post Month  Post Weekday  Post Hour  Paid  \\\n",
       "0            139441         2          12             4          3     0   \n",
       "1            139441         2          12             3         10     0   \n",
       "2            139441         3          12             3          3     0   \n",
       "3            139441         2          12             2         10     1   \n",
       "4            139441         2          12             2          3     0   \n",
       "\n",
       "   Lifetime Post Total Reach  Lifetime Post Total Impressions  \\\n",
       "0                       2752                             5091   \n",
       "1                      10460                            19057   \n",
       "2                       2413                             4373   \n",
       "3                      50128                            87991   \n",
       "4                       7244                            13594   \n",
       "\n",
       "   Lifetime Engaged Users  Lifetime Post Consumers     ...      \\\n",
       "0                     178                      109     ...       \n",
       "1                    1457                     1361     ...       \n",
       "2                     177                      113     ...       \n",
       "3                    2211                      790     ...       \n",
       "4                     671                      410     ...       \n",
       "\n",
       "   Lifetime Post Impressions by people who have liked your Page  \\\n",
       "0                                               3078              \n",
       "1                                              11710              \n",
       "2                                               2812              \n",
       "3                                              61027              \n",
       "4                                               6228              \n",
       "\n",
       "   Lifetime Post reach by people who like your Page  \\\n",
       "0                                              1640   \n",
       "1                                              6112   \n",
       "2                                              1503   \n",
       "3                                             32048   \n",
       "4                                              3200   \n",
       "\n",
       "   Lifetime People who have liked your Page and engaged with your post  \\\n",
       "0                                                119                     \n",
       "1                                               1108                     \n",
       "2                                                132                     \n",
       "3                                               1386                     \n",
       "4                                                396                     \n",
       "\n",
       "   comment  like  share  Type_Link  Type_Photo  Type_Status  Type_Video  \n",
       "0        4    79     17          0           1            0           0  \n",
       "1        5   130     29          0           0            1           0  \n",
       "2        0    66     14          0           1            0           0  \n",
       "3       58  1572    147          0           1            0           0  \n",
       "4       19   325     49          0           1            0           0  \n",
       "\n",
       "[5 rows x 21 columns]"
      ]
     },
     "execution_count": 292,
     "metadata": {},
     "output_type": "execute_result"
    }
   ],
   "source": [
    "df = pd.get_dummies(df, columns=['Type'], prefix='Type')\n",
    "df.head()"
   ]
  },
  {
   "cell_type": "code",
   "execution_count": 293,
   "metadata": {},
   "outputs": [
    {
     "name": "stdout",
     "output_type": "stream",
     "text": [
      "<class 'pandas.core.frame.DataFrame'>\n",
      "RangeIndex: 500 entries, 0 to 499\n",
      "Data columns (total 21 columns):\n",
      "Page total likes                                                       500 non-null int64\n",
      "Category                                                               500 non-null int64\n",
      "Post Month                                                             500 non-null int64\n",
      "Post Weekday                                                           500 non-null int64\n",
      "Post Hour                                                              500 non-null int64\n",
      "Paid                                                                   500 non-null int64\n",
      "Lifetime Post Total Reach                                              500 non-null int64\n",
      "Lifetime Post Total Impressions                                        500 non-null int64\n",
      "Lifetime Engaged Users                                                 500 non-null int64\n",
      "Lifetime Post Consumers                                                500 non-null int64\n",
      "Lifetime Post Consumptions                                             500 non-null int64\n",
      "Lifetime Post Impressions by people who have liked your Page           500 non-null int64\n",
      "Lifetime Post reach by people who like your Page                       500 non-null int64\n",
      "Lifetime People who have liked your Page and engaged with your post    500 non-null int64\n",
      "comment                                                                500 non-null int64\n",
      "like                                                                   500 non-null int64\n",
      "share                                                                  500 non-null int64\n",
      "Type_Link                                                              500 non-null int64\n",
      "Type_Photo                                                             500 non-null int64\n",
      "Type_Status                                                            500 non-null int64\n",
      "Type_Video                                                             500 non-null int64\n",
      "dtypes: int64(21)\n",
      "memory usage: 82.1 KB\n"
     ]
    }
   ],
   "source": [
    "df['Type_Link'] = df['Type_Link'].astype('int64')\n",
    "df['Type_Photo'] = df['Type_Photo'].astype('int64')\n",
    "df['Type_Status'] = df['Type_Status'].astype('int64')\n",
    "df['Type_Video'] = df['Type_Video'].astype('int64')\n",
    "df.info()"
   ]
  },
  {
   "cell_type": "markdown",
   "metadata": {},
   "source": [
    "### Task 2\n",
    "\n",
    "Now your dataset is ready for linear regression. To familiarize yourself with this task, here simply use the following [package](http://www.statsmodels.org/dev/regression.html) to perform regression on the dataset. The dependent variable should be the column 'comment' and the remaining columns of your dataset should be the independent variables. Split your dataset into 80% and 20% for training and testing, respectively. Report the linear model's summary as shown [here](https://www.statsmodels.org/stable/index.html) by using the .summary() function after fitting your model and compute the error of your prediction using the [mean squared error (MSE)](http://scikit-learn.org/stable/modules/generated/sklearn.metrics.mean_squared_error.html).  **(2 pt)**"
   ]
  },
  {
   "cell_type": "code",
   "execution_count": 294,
   "metadata": {},
   "outputs": [],
   "source": [
    "new_column_names = [x.replace(' ','_') for x in df.columns]\n",
    "df.columns = new_column_names"
   ]
  },
  {
   "cell_type": "code",
   "execution_count": 295,
   "metadata": {},
   "outputs": [],
   "source": [
    "X = df[df.columns.difference(['comment'])]\n",
    "# comment = df.pop('comment')\n",
    "y = df[\"comment\"]"
   ]
  },
  {
   "cell_type": "code",
   "execution_count": 301,
   "metadata": {},
   "outputs": [
    {
     "data": {
      "text/plain": [
       "400"
      ]
     },
     "execution_count": 301,
     "metadata": {},
     "output_type": "execute_result"
    }
   ],
   "source": [
    "train_set_size = int(0.8*len(df.index))\n",
    "train_set_size"
   ]
  },
  {
   "cell_type": "code",
   "execution_count": 302,
   "metadata": {},
   "outputs": [
    {
     "name": "stdout",
     "output_type": "stream",
     "text": [
      "(400, 20) (400,)\n",
      "(100, 20) (100,)\n"
     ]
    }
   ],
   "source": [
    "X_train = X[:train_set_size]  # selects first 400 rows (examples) for train set\n",
    "y_train = y[:train_set_size]\n",
    "X_test = X[train_set_size:]   # selects from row 100 until the last one for test set\n",
    "y_test = y[train_set_size:]\n",
    "print(X_train.shape, y_train.shape)\n",
    "print(X_test.shape, y_test.shape)"
   ]
  },
  {
   "cell_type": "code",
   "execution_count": 303,
   "metadata": {},
   "outputs": [
    {
     "name": "stdout",
     "output_type": "stream",
     "text": [
      "                            OLS Regression Results                            \n",
      "==============================================================================\n",
      "Dep. Variable:                comment   R-squared:                       0.807\n",
      "Model:                            OLS   Adj. R-squared:                  0.797\n",
      "Method:                 Least Squares   F-statistic:                     83.68\n",
      "Date:                Tue, 10 Apr 2018   Prob (F-statistic):          6.44e-123\n",
      "Time:                        21:25:47   Log-Likelihood:                -1480.3\n",
      "No. Observations:                 400   AIC:                             3001.\n",
      "Df Residuals:                     380   BIC:                             3080.\n",
      "Df Model:                          19                                         \n",
      "Covariance Type:            nonrobust                                         \n",
      "=======================================================================================================================================\n",
      "                                                                          coef    std err          t      P>|t|      [0.025      0.975]\n",
      "---------------------------------------------------------------------------------------------------------------------------------------\n",
      "Category                                                               -2.7659      0.708     -3.904      0.000      -4.159      -1.373\n",
      "Lifetime_Engaged_Users                                                 -0.0225      0.017     -1.300      0.194      -0.057       0.012\n",
      "Lifetime_People_who_have_liked_your_Page_and_engaged_with_your_post    -0.0123      0.005     -2.312      0.021      -0.023      -0.002\n",
      "Lifetime_Post_Consumers                                                 0.0313      0.016      1.956      0.051      -0.000       0.063\n",
      "Lifetime_Post_Consumptions                                              0.0005      0.000      1.249      0.212      -0.000       0.001\n",
      "Lifetime_Post_Impressions_by_people_who_have_liked_your_Page        -5.618e-05      0.000     -0.329      0.742      -0.000       0.000\n",
      "Lifetime_Post_Total_Impressions                                      7.726e-05   7.87e-05      0.982      0.327   -7.74e-05       0.000\n",
      "Lifetime_Post_Total_Reach                                              -0.0002      0.000     -1.264      0.207      -0.001       0.000\n",
      "Lifetime_Post_reach_by_people_who_like_your_Page                        0.0001      0.000      0.279      0.780      -0.001       0.001\n",
      "Page_total_likes                                                        0.0002      0.000      1.459      0.145   -8.44e-05       0.001\n",
      "Paid                                                                   -0.0140      1.146     -0.012      0.990      -2.267       2.239\n",
      "Post_Hour                                                               0.2045      0.126      1.625      0.105      -0.043       0.452\n",
      "Post_Month                                                             -0.6670      0.584     -1.142      0.254      -1.815       0.481\n",
      "Post_Weekday                                                           -0.2060      0.252     -0.818      0.414      -0.701       0.289\n",
      "Type_Link                                                             -24.1555     17.510     -1.379      0.169     -58.585      10.274\n",
      "Type_Photo                                                            -25.2964     17.719     -1.428      0.154     -60.136       9.543\n",
      "Type_Status                                                           -23.2059     18.051     -1.286      0.199     -58.698      12.286\n",
      "Type_Video                                                            -34.1124     18.328     -1.861      0.063     -70.149       1.924\n",
      "like                                                                    0.0452      0.016      2.887      0.004       0.014       0.076\n",
      "share                                                                   0.2682      0.034      7.871      0.000       0.201       0.335\n",
      "==============================================================================\n",
      "Omnibus:                      277.325   Durbin-Watson:                   1.961\n",
      "Prob(Omnibus):                  0.000   Jarque-Bera (JB):             6431.066\n",
      "Skew:                           2.574   Prob(JB):                         0.00\n",
      "Kurtosis:                      21.957   Cond. No.                     9.51e+06\n",
      "==============================================================================\n",
      "\n",
      "Warnings:\n",
      "[1] Standard Errors assume that the covariance matrix of the errors is correctly specified.\n",
      "[2] The condition number is large, 9.51e+06. This might indicate that there are\n",
      "strong multicollinearity or other numerical problems.\n"
     ]
    }
   ],
   "source": [
    "model = sm.OLS(y_train, X_train)\n",
    "results = model.fit()\n",
    "print(results.summary())"
   ]
  },
  {
   "cell_type": "code",
   "execution_count": 304,
   "metadata": {},
   "outputs": [],
   "source": [
    "y_pred = results.predict(X_test)"
   ]
  },
  {
   "cell_type": "code",
   "execution_count": 305,
   "metadata": {},
   "outputs": [],
   "source": [
    "from sklearn.metrics import mean_squared_error"
   ]
  },
  {
   "cell_type": "code",
   "execution_count": 306,
   "metadata": {},
   "outputs": [
    {
     "data": {
      "text/plain": [
       "129.94574745864963"
      ]
     },
     "execution_count": 306,
     "metadata": {},
     "output_type": "execute_result"
    }
   ],
   "source": [
    "mean_squared_error(y_test, y_pred)"
   ]
  },
  {
   "cell_type": "markdown",
   "metadata": {},
   "source": [
    "Provide an explanation of the OLS regression results. In particular, briefly explain and interpret: \n",
    "\n",
    "- R-squared, \n",
    "\n",
    "- coeff, \n",
    "\n",
    "Finally, \n",
    "\n",
    "- which are the statistically significant predictors and why? \n",
    "\n",
    "**(1 pt)** "
   ]
  },
  {
   "cell_type": "markdown",
   "metadata": {},
   "source": [
    "### R-squared = 0.807,  Adj. R-squared = 0.797\n",
    "R-squared is a statistical measure of how well the regression line approximates the real data points.\n",
    "In my model, R-squared = 0.807, it means 80.7% of variation in comments is explained by our independent variables\n",
    "The Adj.R-squared is a modified version of R-squared that has been adjusted for the number of predictors in the model. It increases only if the new term improves the model more than would be expected by chance. It decreases when a predictor improves the model by less than expected by chance. As the value of Adj. R-squared in my model, it is always lower than the R-squared.\n",
    "However, R-squared cannot determine whether the coefficient estimates and predictions are biased, which is why you must assess the residual plots. My model is still likely that has high R-squared value for a model that does not fit the data.\n",
    "\n",
    "\n",
    "Reference: http://blog.minitab.com/blog/adventures-in-statistics-2/regression-analysis-how-do-i-interpret-r-squared-and-assess-the-goodness-of-fit"
   ]
  },
  {
   "cell_type": "markdown",
   "metadata": {},
   "source": [
    "## confidence interval and coeff of each independent variables are shown below "
   ]
  },
  {
   "cell_type": "code",
   "execution_count": 169,
   "metadata": {},
   "outputs": [
    {
     "name": "stdout",
     "output_type": "stream",
     "text": [
      "Confidence Intervals: \n",
      "                                                             0          1\n",
      "Page total likes                                    -0.000084   0.000570\n",
      "Category                                            -4.158842  -1.373047\n",
      "Post Month                                          -1.815467   0.481490\n",
      "Post Weekday                                        -0.701234   0.289240\n",
      "Post Hour                                           -0.042954   0.452030\n",
      "Paid                                                -2.267065   2.239045\n",
      "Lifetime Post Total Reach                           -0.000527   0.000114\n",
      "Lifetime Post Total Impressions                     -0.000077   0.000232\n",
      "Lifetime Engaged Users                              -0.056658   0.011561\n",
      "Lifetime Post Consumers                             -0.000157   0.062821\n",
      "Lifetime Post Consumptions                          -0.000278   0.001245\n",
      "Lifetime Post Impressions by people who have li...  -0.000392   0.000279\n",
      "Lifetime Post reach by people who like your Page    -0.000690   0.000918\n",
      "Lifetime People who have liked your Page and en...  -0.022805  -0.001845\n",
      "like                                                 0.014427   0.076057\n",
      "share                                                0.201234   0.335247\n",
      "Type_Link                                          -58.584903  10.273990\n",
      "Type_Photo                                         -60.135598   9.542889\n",
      "Type_Status                                        -58.698109  12.286334\n",
      "Type_Video                                         -70.148660   1.923844\n",
      "\n",
      "Parameters: Page total likes                                                        0.000243\n",
      "Category                                                               -2.765944\n",
      "Post Month                                                             -0.666988\n",
      "Post Weekday                                                           -0.205997\n",
      "Post Hour                                                               0.204538\n",
      "Paid                                                                   -0.014010\n",
      "Lifetime Post Total Reach                                              -0.000206\n",
      "Lifetime Post Total Impressions                                         0.000077\n",
      "Lifetime Engaged Users                                                 -0.022549\n",
      "Lifetime Post Consumers                                                 0.031332\n",
      "Lifetime Post Consumptions                                              0.000484\n",
      "Lifetime Post Impressions by people who have liked your Page           -0.000056\n",
      "Lifetime Post reach by people who like your Page                        0.000114\n",
      "Lifetime People who have liked your Page and engaged with your post    -0.012325\n",
      "like                                                                    0.045242\n",
      "share                                                                   0.268240\n",
      "Type_Link                                                             -24.155457\n",
      "Type_Photo                                                            -25.296354\n",
      "Type_Status                                                           -23.205888\n",
      "Type_Video                                                            -34.112408\n",
      "dtype: float64\n"
     ]
    }
   ],
   "source": [
    "print('Confidence Intervals: \\n {}'.format(results.conf_int()))\n",
    "print('')\n",
    "print('Parameters: {}'.format(results.params))"
   ]
  },
  {
   "cell_type": "markdown",
   "metadata": {},
   "source": [
    "## coeff\n",
    "The positive coeff parameter estimate implies that the independent variable has a positive effect on comment, otherwise, it has a negative effect on comment.\n"
   ]
  },
  {
   "cell_type": "markdown",
   "metadata": {},
   "source": [
    "## confidence interval\n",
    "If the idependent variable's confidence interval for the parameter includes zero, it may not have any predivtive value, which means it is not statistically significant. Meanwhile, the p-value less than 0.05 for the parameter implies that the effect of the independent variable is statistically significant (using p < 0.05 as a rejection rule)."
   ]
  },
  {
   "cell_type": "code",
   "execution_count": 185,
   "metadata": {},
   "outputs": [
    {
     "name": "stdout",
     "output_type": "stream",
     "text": [
      "If the independant variable is statistically significant:\n",
      "Page total likes : True\n",
      "Category : False\n",
      "Post Month : True\n",
      "Post Weekday : True\n",
      "Post Hour : True\n",
      "Paid : True\n",
      "Lifetime Post Total Reach : True\n",
      "Lifetime Post Total Impressions : True\n",
      "Lifetime Engaged Users : True\n",
      "Lifetime Post Consumers : True\n",
      "Lifetime Post Consumptions : True\n",
      "Lifetime Post Impressions by people who have liked your Page : True\n",
      "Lifetime Post reach by people who like your Page : True\n",
      "Lifetime People who have liked your Page and engaged with your post : False\n",
      "like : False\n",
      "share : False\n",
      "Type_Link : True\n",
      "Type_Photo : True\n",
      "Type_Status : True\n",
      "Type_Video : True\n"
     ]
    }
   ],
   "source": [
    "independ_var = ['Page total likes', 'Category', 'Post Month', 'Post Weekday',\n",
    "       'Post Hour', 'Paid', 'Lifetime Post Total Reach',\n",
    "       'Lifetime Post Total Impressions', 'Lifetime Engaged Users',\n",
    "       'Lifetime Post Consumers', 'Lifetime Post Consumptions',\n",
    "       'Lifetime Post Impressions by people who have liked your Page',\n",
    "       'Lifetime Post reach by people who like your Page',\n",
    "       'Lifetime People who have liked your Page and engaged with your post',\n",
    "       'like', 'share', 'Type_Link', 'Type_Photo', 'Type_Status',\n",
    "       'Type_Video']\n",
    "model = sm.OLS(y_train.values, X_train.values)\n",
    "results = model.fit()\n",
    "CIs = results.conf_int()\n",
    "notSignificant = (CIs[:,0] < 0) & (CIs[:,1] > 0)\n",
    "j = 0\n",
    "print('If the independant variable is statistically significant:')\n",
    "for i in notSignificant:\n",
    "    print(independ_var[j] + ' : ' + str(i))\n",
    "    j += 1"
   ]
  },
  {
   "cell_type": "markdown",
   "metadata": {},
   "source": [
    "###  From the results above, we can see that the statistically significant predictors are:\n",
    "### [ \"Category\", \"Lifetime People who have liked your Page and engaged with your post\", \"like\", \"share\"]"
   ]
  },
  {
   "cell_type": "markdown",
   "metadata": {},
   "source": []
  },
  {
   "cell_type": "markdown",
   "metadata": {},
   "source": [
    "### Task 3\n",
    "\n",
    "We will attempt to improve the MSE. In order to do so we are going to use regularization by returning a regularized fit to the linear regression model. Note that regularization's goal is to reduce overfitting, that is it creates a more generalized linear model and removes possible noise from the dataset. You will complete this task by using the .fit_regularized() method, and more specifically the **ridge fit**. More details can be found [here](http://www.statsmodels.org/dev/generated/statsmodels.regression.linear_model.OLS.fit_regularized.html). Perform Kfold cross-validation, where K = 5, to both the linear model and the regularized linear model, in order to decide which performs better. Report the MSE of the two models. Remember to shuffle the data before performing cross-validation. **(2 pt)**"
   ]
  },
  {
   "cell_type": "code",
   "execution_count": 374,
   "metadata": {},
   "outputs": [],
   "source": [
    "MSE_naive = []\n",
    "MSE_reg = []\n",
    "for k in range(5):\n",
    "    X, y = utils.shuffle(X, y, random_state=1)\n",
    "    # Split into training and test sets\n",
    "    X_train, X_test, y_train, y_test = model_selection.train_test_split(X, y, test_size=0.2)\n",
    "    \n",
    "    model_naive = sm.OLS(y_train, X_train)\n",
    "    results_naive = model_naive.fit()\n",
    "    y_pred_naive = results_naive.predict(X_test)\n",
    "    MSE_naive.append(mean_squared_error(y_test, y_pred_naive))\n",
    "    \n",
    "    results_reg = sm.OLS(y_train, X_train).fit_regularized(alpha = 5, L1_wt=0)\n",
    "    y_pred_reg = results_reg.predict(X_test)\n",
    "    MSE_reg.append(mean_squared_error(y_test, y_pred_reg))\n",
    "    "
   ]
  },
  {
   "cell_type": "code",
   "execution_count": 375,
   "metadata": {},
   "outputs": [
    {
     "name": "stdout",
     "output_type": "stream",
     "text": [
      "MSE of linear model is 117.69009601232752\n",
      "MSE of regularized linear model is 108.06449558381075\n"
     ]
    }
   ],
   "source": [
    "print(\"MSE of linear model is {}\".format(np.mean(MSE_naive)))\n",
    "print(\"MSE of regularized linear model is {}\".format(np.mean(MSE_reg)))"
   ]
  },
  {
   "cell_type": "markdown",
   "metadata": {},
   "source": [
    "### From the MSE value above, we can decide that the regularized linear model performs better when alpha=5"
   ]
  },
  {
   "cell_type": "markdown",
   "metadata": {},
   "source": [
    "Try the following values for the ridge regression parameter $\\alpha$ (the penalty weight), $\\alpha = [0,5,10,100]$.**(1 pt)**"
   ]
  },
  {
   "cell_type": "code",
   "execution_count": 336,
   "metadata": {},
   "outputs": [
    {
     "data": {
      "text/plain": [
       "array([  0,   5,  10, 100])"
      ]
     },
     "execution_count": 336,
     "metadata": {},
     "output_type": "execute_result"
    }
   ],
   "source": [
    "alphas_to_try = np.array([0,5,10,100])\n",
    "alphas_to_try"
   ]
  },
  {
   "cell_type": "code",
   "execution_count": 339,
   "metadata": {},
   "outputs": [
    {
     "name": "stdout",
     "output_type": "stream",
     "text": [
      "alpha = 0, MSE = 224.50761968350866\n",
      "alpha = 5, MSE = 190.11504284467802\n",
      "alpha = 10, MSE = 191.68947318576738\n",
      "alpha = 100, MSE = 193.47187206446935\n"
     ]
    }
   ],
   "source": [
    "X, y = utils.shuffle(X, y, random_state=1)\n",
    "X_train, X_test, y_train, y_test = model_selection.train_test_split(X, y, test_size=0.2)\n",
    "for this_alpha in alphas_to_try:\n",
    "    model_reg = sm.OLS(y_train, X_train).fit_regularized(method='elastic_net', alpha=this_alpha,L1_wt=0)\n",
    "    y_predicted = model_reg.predict(X_test)\n",
    "    MSE = mean_squared_error(y_test, y_predicted)\n",
    "#     print(model_reg.params)\n",
    "    print(\"alpha = {}, MSE = {}\".format(this_alpha, MSE))\n"
   ]
  },
  {
   "cell_type": "markdown",
   "metadata": {},
   "source": [
    "Based on your knowledge and your results, as a data scientist would you prefer a linear model, or a regularized linear model? What effects can a zero (or very small) $\\alpha$ and a very large $\\alpha$ cause?**(1 pt)** "
   ]
  },
  {
   "cell_type": "markdown",
   "metadata": {},
   "source": [
    "#### When there are many features in the data, I prefer regularized linear model, because it has better performance when dealing with overfitting problem.\n",
    "\n",
    "#### α is a zero (or very samll):\n",
    "The regularization term will become nearly zero. As a result, the cost function mostly depends on the MSE term just like before applying regularization. Or we can say that, when α is nearly zero, the regularization term won’t have any significant effect on shrinking the parameters. Therefore the model is more likely to overfit.\n",
    "\n",
    "#### α is very large:\n",
    "α is very large means we put much weight in the regularization term. And as a result, the parameters will shrink to a very small values. That approach, however, brings a real problem, that is, rather than preventing Overfitting, our parameters now become so small so that it can’t even fit the training data well, or we can say that: applying so much regularization cause our model to underfit the dataset.\n",
    "\n",
    "Reference :https://chunml.github.io/ChunML.github.io/tutorial/Regularization/"
   ]
  },
  {
   "cell_type": "markdown",
   "metadata": {},
   "source": []
  },
  {
   "cell_type": "markdown",
   "metadata": {},
   "source": [
    "### Task 4\n",
    "\n",
    "Another way that may help us improve the MSE is by adding quadratic terms of significant variables in the model. Add 2 quadratic terms in your **regularized linear model** based on two significant variables. An interesting and intuitive tutorial about understanding which are the significant variables and the importance of quadratic terms can be found [here](http://statisticsbyjim.com/regression/interpret-coefficients-p-values-regression/). Note that in order to add the quadratic terms you will need to change the formula of your model, as in [example](http://www.statsmodels.org/dev/examples/notebooks/generated/formulas.html) and in [example](https://stackoverflow.com/questions/31978948/python-stats-models-quadratic-term-in-regression/36539157). Perform Kfold cross-validation, where K = 5, to both the linear model and the regularized linear model with quadratic terms, in order to decide which performs better. Report the MSE of the two models. Remember to shuffle the data before performing cross-validation. **(2 pt)**"
   ]
  },
  {
   "cell_type": "markdown",
   "metadata": {
    "collapsed": true
   },
   "source": [
    "## Two significant variables: Category and like"
   ]
  },
  {
   "cell_type": "code",
   "execution_count": 204,
   "metadata": {},
   "outputs": [],
   "source": [
    "import statsmodels.formula.api as smf\n",
    "from statsmodels.formula.api import ols, glm"
   ]
  },
  {
   "cell_type": "code",
   "execution_count": 376,
   "metadata": {},
   "outputs": [],
   "source": [
    "my_formula = 'comment ~ Page_total_likes + Category + Post_Month + Post_Weekday + Post_Hour \\\n",
    "+ Paid + Lifetime_Post_Total_Reach + Lifetime_Post_Total_Impressions + Lifetime_Engaged_Users \\\n",
    "+ Lifetime_Post_Consumers + Lifetime_Post_Consumptions + Lifetime_Post_Impressions_by_people_who_have_liked_your_Page\\\n",
    "+ Lifetime_Post_reach_by_people_who_like_your_Page + Lifetime_People_who_have_liked_your_Page_and_engaged_with_your_post \\\n",
    "+ like + share + Type_Link + Type_Photo + Type_Status + Type_Video\\\n",
    "+ np.power(Category, 2) + np.power(like, 2)'"
   ]
  },
  {
   "cell_type": "code",
   "execution_count": 377,
   "metadata": {},
   "outputs": [],
   "source": [
    "MSE_qua_naive = []\n",
    "MSE_qua_reg = []\n",
    "\n",
    "for k in range(5):\n",
    "    X, y = utils.shuffle(X, y, random_state=1)\n",
    "    # Split into training and test sets\n",
    "    X_train, X_test, y_train, y_test = model_selection.train_test_split(X, y, test_size=0.2)\n",
    "    df_train = pd.concat([X_train, y_train], axis=1)\n",
    "    \n",
    "    results_qua_naive = ols(formula = my_formula, data=df_train  ).fit()\n",
    "    y_pred_qua_naive = results_qua_naive.predict(X_test)\n",
    "    MSE_qua_naive.append(mean_squared_error(y_test, y_pred_qua_naive))\n",
    "    \n",
    "    results_qua_reg = ols(formula = my_formula, data=df_train).fit_regularized(alpha = 5, L1_wt=0)\n",
    "    y_pred_qua_reg = results_qua_reg.predict(X_test)\n",
    "    MSE_qua_reg.append(mean_squared_error(y_test, y_pred_qua_reg))"
   ]
  },
  {
   "cell_type": "code",
   "execution_count": 378,
   "metadata": {},
   "outputs": [
    {
     "name": "stdout",
     "output_type": "stream",
     "text": [
      "MSE of linear model is 63.433622949801986\n",
      "MSE of regularized linear model is 60.7821451124477\n"
     ]
    }
   ],
   "source": [
    "print(\"MSE of linear model is {}\".format(np.mean(MSE_qua_naive)))\n",
    "print(\"MSE of regularized linear model is {}\".format(np.mean(MSE_qua_reg)))"
   ]
  },
  {
   "cell_type": "markdown",
   "metadata": {},
   "source": [
    "What issues do you think could come up if we used too many quadratic or cubic terms in our model?**(1 pt)** "
   ]
  },
  {
   "cell_type": "markdown",
   "metadata": {
    "collapsed": true
   },
   "source": [
    "#### 1. It will cause serious multicollinearity\n",
    "#### 2. When the size of predictor is large, it may cause numerical overflow\n",
    "#### 3. If we extrapolate beyond the limits of your observed values, it may produce meaningless results beyongd the scope of the model.\n"
   ]
  },
  {
   "cell_type": "code",
   "execution_count": null,
   "metadata": {},
   "outputs": [],
   "source": []
  }
 ],
 "metadata": {
  "kernelspec": {
   "display_name": "Python 3",
   "language": "python",
   "name": "python3"
  },
  "language_info": {
   "codemirror_mode": {
    "name": "ipython",
    "version": 3
   },
   "file_extension": ".py",
   "mimetype": "text/x-python",
   "name": "python",
   "nbconvert_exporter": "python",
   "pygments_lexer": "ipython3",
   "version": "3.6.3"
  }
 },
 "nbformat": 4,
 "nbformat_minor": 2
}
